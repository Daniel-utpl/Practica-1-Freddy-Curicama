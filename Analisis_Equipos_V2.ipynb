{
 "cells": [
  {
   "cell_type": "markdown",
   "id": "204e3041",
   "metadata": {},
   "source": [
    "# 📋 Análisis de Entrega y Recepción de Equipos\n",
    "Este notebook analiza un archivo de entregas y recepciones de bienes institucionales, procesando y visualizando los datos disponibles."
   ]
  },
  {
   "cell_type": "code",
   "execution_count": null,
   "id": "88c4b281",
   "metadata": {},
   "outputs": [],
   "source": [
    "# 📦 Importar librerías necesarias\n",
    "import pandas as pd\n",
    "import matplotlib.pyplot as plt\n",
    "import seaborn as sns\n",
    "\n",
    "# Configurar estilo de gráficos\n",
    "sns.set(style='whitegrid')"
   ]
  },
  {
   "cell_type": "code",
   "execution_count": null,
   "id": "68ee92f0",
   "metadata": {},
   "outputs": [],
   "source": [
    "# 📁 Subir archivo desde tu PC\n",
    "from google.colab import files\n",
    "uploaded = files.upload()"
   ]
  },
  {
   "cell_type": "code",
   "execution_count": null,
   "id": "5fcb80b2",
   "metadata": {},
   "outputs": [],
   "source": [
    "# 📄 Cargar archivo CSV delimitado por punto y coma\n",
    "datos = pd.read_csv('Equipos.csv', sep=';', encoding='utf-8')\n",
    "\n",
    "# Ver las primeras filas y dimensiones\n",
    "print(\"Dimensiones del archivo (filas, columnas):\", datos.shape)\n",
    "datos.head()"
   ]
  },
  {
   "cell_type": "code",
   "execution_count": null,
   "id": "fb9ae348",
   "metadata": {},
   "outputs": [],
   "source": [
    "# 🧹 Limpieza básica: eliminar columnas vacías o sin nombre\n",
    "datos = datos.loc[:, ~datos.columns.str.contains('^Unnamed')]\n",
    "\n",
    "# Ver columnas finales\n",
    "datos.columns"
   ]
  },
  {
   "cell_type": "code",
   "execution_count": null,
   "id": "4efebb0c",
   "metadata": {},
   "outputs": [],
   "source": [
    "# ➕ Crear columnas derivadas (ejemplo: año y mes de entrega)\n",
    "datos['FECHA'] = pd.to_datetime(datos['FECHA'], errors='coerce')\n",
    "datos['AÑO'] = datos['FECHA'].dt.year\n",
    "datos['MES'] = datos['FECHA'].dt.month\n",
    "\n",
    "# Verificación\n",
    "datos[['FECHA', 'AÑO', 'MES']].head()"
   ]
  },
  {
   "cell_type": "code",
   "execution_count": null,
   "id": "4afedf39",
   "metadata": {},
   "outputs": [],
   "source": [
    "# 📊 Visualización 1: Cantidad de bienes entregados por mes\n",
    "\n",
    "plt.figure(figsize=(10,6))\n",
    "sns.countplot(data=datos, x='MES', order=sorted(datos['MES'].dropna().unique()))\n",
    "plt.title(\"Cantidad de bienes entregados por mes\")\n",
    "plt.xlabel(\"Mes\")\n",
    "plt.ylabel(\"Número de entregas\")\n",
    "plt.show()"
   ]
  },
  {
   "cell_type": "code",
   "execution_count": null,
   "id": "114665b1",
   "metadata": {},
   "outputs": [],
   "source": [
    "# 📊 Visualización 2: Marcas más frecuentes en los bienes entregados\n",
    "\n",
    "plt.figure(figsize=(12,6))\n",
    "top_marcas = datos['MARCA'].value_counts().nlargest(10)\n",
    "sns.barplot(x=top_marcas.index, y=top_marcas.values)\n",
    "plt.title(\"Top 10 marcas más frecuentes\")\n",
    "plt.ylabel(\"Número de bienes\")\n",
    "plt.xlabel(\"Marca\")\n",
    "plt.xticks(rotation=45)\n",
    "plt.show()"
   ]
  },
  {
   "cell_type": "markdown",
   "id": "fc3d17fd",
   "metadata": {},
   "source": [
    "### 📤 Exportación del reporte\n",
    "Para exportar como PDF en Google Colab:\n",
    "1. Ir a **Archivo > Imprimir**.\n",
    "2. Elegir \"Guardar como PDF\".\n",
    "\n",
    "Para compartir el notebook:\n",
    "1. Ir a **Archivo > Compartir**.\n",
    "2. Activar enlace público de solo lectura.\n",
    "3. Subir el enlace donde se indique."
   ]
  },
  {
   "cell_type": "markdown",
   "id": "228a3358",
   "metadata": {},
   "source": [
    "\n",
    "### ✅ Conclusión\n",
    "\n",
    "El análisis realizado sobre el archivo de entregas y recepciones de equipos permitió identificar patrones relevantes en la gestión de bienes institucionales. Se evidenció una alta concentración de entregas en determinados meses, lo que puede estar relacionado con procesos administrativos o ciclos de proyectos internos. Además, las marcas más frecuentes —como Lenovo y Xerox— reflejan las preferencias o contratos vigentes de adquisición tecnológica.\n",
    "\n",
    "Este tipo de análisis no solo facilita la trazabilidad y control de inventarios, sino que también puede apoyar la toma de decisiones respecto a mantenimiento, renovación de equipos y planificación de nuevas compras. La automatización y visualización de estos datos a través de herramientas como Google Colab agiliza los procesos de auditoría y gestión pública con mayor transparencia y eficiencia.\n"
   ]
  }
 ],
 "metadata": {},
 "nbformat": 4,
 "nbformat_minor": 5
}
